{
 "cells": [
  {
   "cell_type": "markdown",
   "metadata": {
    "id": "Way8JxpStgPO"
   },
   "source": [
    "## Practical Work 1"
   ]
  },
  {
   "cell_type": "markdown",
   "metadata": {
    "id": "gBliGRONtgPP"
   },
   "source": [
    "For this practical work, the student will have to develop a Python program that is able to implement the gradient descent in order to achieve the linear regression of a set of datapoints."
   ]
  },
  {
   "cell_type": "markdown",
   "metadata": {
    "id": "TtgqSA0JtgPR"
   },
   "source": [
    "#### Import numpy, matplotlib.pyplot and make it inline"
   ]
  },
  {
   "cell_type": "code",
   "execution_count": null,
   "metadata": {
    "colab": {
     "base_uri": "https://localhost:8080/"
    },
    "id": "sIpFOSShtgPS",
    "outputId": "ba40e2bd-aebc-41e7-cb31-a681c2fe176b"
   },
   "outputs": [
    {
     "name": "stdout",
     "output_type": "stream",
     "text": [
      "Mounted at /content/drive/\n"
     ]
    }
   ],
   "source": [
    "import numpy as np\n",
    "import matplotlib.pyplot as plt\n",
    "from google.colab import drive\n",
    "drive.mount('/content/drive/')"
   ]
  },
  {
   "cell_type": "markdown",
   "metadata": {
    "id": "O1mhILjttgPT"
   },
   "source": [
    "#### Read RegData csv file into numpy array  (check your data)\n",
    "##### Data source\n",
    "https://college.cengage.com/mathematics/brase/understandable_statistics/7e/students/datasets/slr/frames/frame.html\n"
   ]
  },
  {
   "cell_type": "code",
   "execution_count": null,
   "metadata": {
    "id": "EYa8SloftgPT"
   },
   "outputs": [],
   "source": [
    "data = np.genfromtxt(\"/content/drive/MyDrive/RegData.csv\" , delimiter=\",\")"
   ]
  },
  {
   "cell_type": "markdown",
   "metadata": {
    "id": "i-lS9r0ktgPU"
   },
   "source": [
    "#### Explore your data"
   ]
  },
  {
   "cell_type": "code",
   "execution_count": null,
   "metadata": {
    "colab": {
     "base_uri": "https://localhost:8080/"
    },
    "id": "jHhZXATytgPU",
    "outputId": "c7043e09-f746-44b9-93d4-7468a5e0616d"
   },
   "outputs": [
    {
     "name": "stdout",
     "output_type": "stream",
     "text": [
      "(13, 2)\n",
      "[[2.9000001  4.        ]\n",
      " [6.69999981 7.4000001 ]\n",
      " [4.9000001  5.        ]\n",
      " [7.9000001  7.19999981]\n",
      " [9.80000019 7.9000001 ]\n",
      " [6.9000001  6.0999999 ]\n",
      " [6.0999999  6.        ]\n",
      " [6.19999981 5.80000019]\n",
      " [6.         5.19999981]\n",
      " [5.0999999  4.19999981]\n",
      " [4.69999981 4.        ]\n",
      " [4.4000001  4.4000001 ]\n",
      " [5.80000019 5.19999981]]\n"
     ]
    }
   ],
   "source": [
    "print(np.shape(data))\n",
    "print(data)"
   ]
  },
  {
   "cell_type": "markdown",
   "metadata": {
    "id": "hwP-bwuZtgPV"
   },
   "source": [
    "#### Define variables X and y. Assign first column data to X and second column to y\n",
    "<b>Note:</b> X is the independent variable (input to LR model) and y is the dependent variable (output)"
   ]
  },
  {
   "cell_type": "code",
   "execution_count": null,
   "metadata": {
    "id": "18jDjuAftgPV"
   },
   "outputs": [],
   "source": [
    "X = data[ : , 0]\n",
    "Y = data[: , 1]\n"
   ]
  },
  {
   "cell_type": "markdown",
   "metadata": {
    "id": "0SUVcW1-tgPV"
   },
   "source": [
    "#### Explore your data"
   ]
  },
  {
   "cell_type": "code",
   "execution_count": null,
   "metadata": {
    "colab": {
     "base_uri": "https://localhost:8080/"
    },
    "id": "X_TEHNuPtgPW",
    "outputId": "7014efa2-2f15-4b5f-acfc-3838dcd4941b"
   },
   "outputs": [
    {
     "name": "stdout",
     "output_type": "stream",
     "text": [
      "[2.9000001  6.69999981 4.9000001  7.9000001  9.80000019 6.9000001\n",
      " 6.0999999  6.19999981 6.         5.0999999  4.69999981 4.4000001\n",
      " 5.80000019]\n"
     ]
    }
   ],
   "source": [
    "print(X)\n"
   ]
  },
  {
   "cell_type": "code",
   "execution_count": null,
   "metadata": {
    "colab": {
     "base_uri": "https://localhost:8080/"
    },
    "id": "c0kbPHnFtgPW",
    "outputId": "a33e52d0-37f0-44f8-dab2-41327f833afe",
    "scrolled": true
   },
   "outputs": [
    {
     "name": "stdout",
     "output_type": "stream",
     "text": [
      "[4.         7.4000001  5.         7.19999981 7.9000001  6.0999999\n",
      " 6.         5.80000019 5.19999981 4.19999981 4.         4.4000001\n",
      " 5.19999981]\n"
     ]
    }
   ],
   "source": [
    "print(Y)"
   ]
  },
  {
   "cell_type": "markdown",
   "metadata": {
    "id": "Fu0RWbiatgPW"
   },
   "source": [
    "#### Plot the original data (scatter plot of X,y)"
   ]
  },
  {
   "cell_type": "code",
   "execution_count": null,
   "metadata": {
    "colab": {
     "base_uri": "https://localhost:8080/",
     "height": 282
    },
    "id": "02U_8gdltgPX",
    "outputId": "053a2b16-7b24-4304-a83d-74fdb568bb34"
   },
   "outputs": [
    {
     "data": {
      "text/plain": [
       "[<matplotlib.lines.Line2D at 0x7f88c9ce8090>]"
      ]
     },
     "execution_count": 8,
     "metadata": {
      "tags": []
     },
     "output_type": "execute_result"
    },
    {
     "data": {
      "image/png": "[encoded data removed]",
      "text/plain": [
       "<Figure size 432x288 with 1 Axes>"
      ]
     },
     "metadata": {
      "needs_background": "light",
      "tags": []
     },
     "output_type": "display_data"
    }
   ],
   "source": [
    "plt.plot(X,Y , \"*\")"
   ]
  },
  {
   "cell_type": "markdown",
   "metadata": {
    "id": "VkLRJPNKtgPX"
   },
   "source": [
    "## LR Full Implementation"
   ]
  },
  {
   "cell_type": "markdown",
   "metadata": {
    "id": "vo1DDck0tgPX"
   },
   "source": [
    "### Step1: Initialize parameters (theta_0 & theta_1) with random value or simply zero. Also choose the Learning rate. "
   ]
  },
  {
   "cell_type": "markdown",
   "metadata": {
    "id": "f1sZPl0xtgPX"
   },
   "source": [
    "![image.png](attachment:image.png)"
   ]
  },
  {
   "cell_type": "code",
   "execution_count": null,
   "metadata": {
    "id": "a9flcPwotgPY"
   },
   "outputs": [],
   "source": [
    "theta_0 = 0 \n",
    "theta_1 = 0\n",
    "alpha = .005"
   ]
  },
  {
   "cell_type": "markdown",
   "metadata": {
    "id": "RnoPuSHftgPY"
   },
   "source": [
    "### Step2: Use (theta_0 & theta_1) to predict the output h(x)= theta_0 + theta_1 * x.![image.png](attachment:image.png)\n",
    "#### Note: you will need to iterate through all data points"
   ]
  },
  {
   "cell_type": "code",
   "execution_count": null,
   "metadata": {
    "colab": {
     "base_uri": "https://localhost:8080/"
    },
    "id": "BzDwMNhHtgPY",
    "outputId": "315173b0-b7cc-439d-dfcb-5e903c815052"
   },
   "outputs": [
    {
     "name": "stdout",
     "output_type": "stream",
     "text": [
      "[0. 0. 0. 0. 0. 0. 0. 0. 0. 0. 0. 0. 0.]\n"
     ]
    }
   ],
   "source": [
    "h = theta_0 + theta_1 * X\n",
    "print(h)"
   ]
  },
  {
   "cell_type": "markdown",
   "metadata": {
    "id": "-zAEIHjUtgPY"
   },
   "source": [
    "### Step3: Calculate Cost function 𝑱(theta_0,theta_1 ).![image.png](attachment:image.png)\n",
    "![image-2.png](attachment:image-2.png)"
   ]
  },
  {
   "cell_type": "code",
   "execution_count": null,
   "metadata": {
    "colab": {
     "base_uri": "https://localhost:8080/"
    },
    "id": "4w_Jh7YqtgPZ",
    "outputId": "72f95acc-ace6-4f62-9774-20361ff6cb48"
   },
   "outputs": [
    {
     "name": "stdout",
     "output_type": "stream",
     "text": [
      "2755.6099770680016\n"
     ]
    }
   ],
   "source": [
    "m = len(X)\n",
    "cost = (1/2*m) * np.sum( np.square(h - Y) )\n",
    "print(cost)"
   ]
  },
  {
   "cell_type": "markdown",
   "metadata": {
    "id": "FdQV7zidtgPZ"
   },
   "source": [
    "### Step4: Calculate the gradient.![image.png](attachment:image.png)\n",
    "![image-2.png](attachment:image-2.png)"
   ]
  },
  {
   "cell_type": "code",
   "execution_count": null,
   "metadata": {
    "colab": {
     "base_uri": "https://localhost:8080/"
    },
    "id": "1PxkqWfMtgPZ",
    "outputId": "40f8d9ca-ff2e-4f6c-a5c3-a8d820c5490d"
   },
   "outputs": [
    {
     "name": "stdout",
     "output_type": "stream",
     "text": [
      "-5.569230739769231\n",
      "-35.043846043215375\n"
     ]
    }
   ],
   "source": [
    "diff_theta_0 = (1/m) * np.sum( h - Y ) \n",
    "diff_theta_1 = (1/m) * np.sum( (h - Y) * X )\n",
    "print(diff_theta_0)\n",
    "print(diff_theta_1)"
   ]
  },
  {
   "cell_type": "markdown",
   "metadata": {
    "id": "rSBF0RmJtgPZ"
   },
   "source": [
    "### Step5: Update the parameters (simultaneously).![image.png](attachment:image.png)\n",
    "![image-2.png](attachment:image-2.png)"
   ]
  },
  {
   "cell_type": "code",
   "execution_count": null,
   "metadata": {
    "colab": {
     "base_uri": "https://localhost:8080/"
    },
    "id": "klCj2-AttgPa",
    "outputId": "6531c566-0511-47f9-f915-9169cc647e4d"
   },
   "outputs": [
    {
     "name": "stdout",
     "output_type": "stream",
     "text": [
      "0.027846153698846157\n",
      "0.17521923021607688\n"
     ]
    }
   ],
   "source": [
    "theta_0 = theta_0 - alpha * diff_theta_0\n",
    "theta_1 = theta_1 - alpha * diff_theta_1\n",
    "print(theta_0)\n",
    "print(theta_1)"
   ]
  },
  {
   "cell_type": "markdown",
   "metadata": {
    "id": "5EFKWH73tgPa"
   },
   "source": [
    "### Step6: Repeat from 2 to 5 until converge to the minimum or achieve maximum iterations.![image.png](attachment:image.png)"
   ]
  },
  {
   "cell_type": "code",
   "execution_count": null,
   "metadata": {
    "colab": {
     "base_uri": "https://localhost:8080/"
    },
    "id": "lseqVKbvtgPa",
    "outputId": "0f76734a-ec5c-4486-c752-88a57fe3439c"
   },
   "outputs": [
    {
     "name": "stdout",
     "output_type": "stream",
     "text": [
      "1.1116441185721027\n",
      "0.7449291325526756\n",
      "1.3381599526520096\n"
     ]
    }
   ],
   "source": [
    "cost_list=[]\n",
    "n = 0\n",
    "itter_list= []\n",
    "theta_0_list = []\n",
    "theta_1_list = []\n",
    "for i in range (4000):\n",
    "  n = n+1\n",
    "  itter_list.append(n)\n",
    "  Gradient = (theta_0**2 + theta_1**2)**.5\n",
    "  if Gradient < .001:\n",
    "    break\n",
    "  #step 2 making hypothesis\n",
    "  h = theta_0 + theta_1 * X \n",
    "  #step 3 Calculating cost of that hypothesis (difference between the hypothesis and the true values)\n",
    "  cost = (1/2*m) * np.sum( np.square(h - Y) )\n",
    "  cost_list.append(cost)\n",
    "  #step 4 calculating partial derivatives for theta0 and theta1\n",
    "  diff_theta_0 = (1/m) * np.sum( h - Y ) \n",
    "  diff_theta_1 = (1/m) * np.sum( (h - Y) * X )\n",
    "  #step 5 Updating\n",
    "  theta_0 = theta_0 - alpha * diff_theta_0\n",
    "  theta_1 = theta_1 - alpha * diff_theta_1\n",
    "  theta_0_list.append(theta_0)\n",
    "  theta_1_list.append(theta_1)\n",
    "  Gradient = (theta_0**2 + theta_1**2)**.5\n",
    "  if Gradient < .001:\n",
    "    break\n",
    "print(theta_0)\n",
    "print(theta_1)\n",
    "print(Gradient)"
   ]
  },
  {
   "cell_type": "markdown",
   "metadata": {
    "id": "Uz_SEn0ltgPa"
   },
   "source": [
    "#### Predict y values using the LR equation\n",
    "##### h(x)= theta_0 + theta_1 * x"
   ]
  },
  {
   "cell_type": "code",
   "execution_count": null,
   "metadata": {
    "colab": {
     "base_uri": "https://localhost:8080/"
    },
    "id": "MYxFXT0XtgPb",
    "outputId": "2b5bb108-7a67-450c-902f-8cb122736daa"
   },
   "outputs": [
    {
     "name": "stdout",
     "output_type": "stream",
     "text": [
      "[3.27193867 6.10266916 4.76179694 6.99658434 8.41194976 6.2516552\n",
      " 5.65571176 5.7302046  5.58121891 4.91078262 4.6128109  4.38933237\n",
      " 5.43223323]\n"
     ]
    }
   ],
   "source": [
    "h = theta_0 + theta_1 * X\n",
    "print(h)"
   ]
  },
  {
   "cell_type": "markdown",
   "metadata": {
    "id": "AAYSQEwZtgPb"
   },
   "source": [
    "#### Plot  LR equation output (fitted line) with the original data (scatter plot of X,y)"
   ]
  },
  {
   "cell_type": "code",
   "execution_count": null,
   "metadata": {
    "colab": {
     "base_uri": "https://localhost:8080/",
     "height": 265
    },
    "id": "ShW32LI7tgPb",
    "outputId": "02ee2acb-d5c0-4d74-9272-a0ad5aa90b3d"
   },
   "outputs": [
    {
     "data": {
      "image/png": "[encoded data removed]",
      "text/plain": [
       "<Figure size 432x288 with 1 Axes>"
      ]
     },
     "metadata": {
      "needs_background": "light",
      "tags": []
     },
     "output_type": "display_data"
    }
   ],
   "source": [
    "plt.plot(X,Y, \"*\")\n",
    "plt.plot(X,h)\n",
    "plt.show()"
   ]
  },
  {
   "cell_type": "markdown",
   "metadata": {
    "id": "Gpj-0CeNtgPb"
   },
   "source": [
    "#### Use R2 score to evaluate LR equation output\n",
    "![image.png](attachment:image.png)\n",
    "![image-2.png](attachment:image-2.png)\n",
    "![image-3.png](attachment:image-3.png)\n",
    "https://en.wikipedia.org/wiki/Coefficient_of_determination"
   ]
  },
  {
   "cell_type": "code",
   "execution_count": null,
   "metadata": {
    "colab": {
     "base_uri": "https://localhost:8080/"
    },
    "id": "8jozM5dxtgPb",
    "outputId": "e85b14ba-9660-438e-8db0-8e68bf8335c1"
   },
   "outputs": [
    {
     "data": {
      "text/plain": [
       "0.8166761459033693"
      ]
     },
     "execution_count": 17,
     "metadata": {
      "tags": []
     },
     "output_type": "execute_result"
    }
   ],
   "source": [
    "from sklearn.metrics import r2_score\n",
    "r2_score(Y,h)"
   ]
  },
  {
   "cell_type": "markdown",
   "metadata": {
    "id": "otnw9ZMEtgPd"
   },
   "source": [
    "## Plot loss function\n"
   ]
  },
  {
   "cell_type": "code",
   "execution_count": null,
   "metadata": {
    "colab": {
     "base_uri": "https://localhost:8080/",
     "height": 282
    },
    "id": "zyu43MKXtgPd",
    "outputId": "75b7ebe1-37de-417a-e373-da81604b0d92"
   },
   "outputs": [
    {
     "data": {
      "text/plain": [
       "[<matplotlib.lines.Line2D at 0x7f88ba536510>]"
      ]
     },
     "execution_count": 21,
     "metadata": {
      "tags": []
     },
     "output_type": "execute_result"
    },
    {
     "data": {
      "image/png": "[encoded data removed]",
      "text/plain": [
       "<Figure size 432x288 with 1 Axes>"
      ]
     },
     "metadata": {
      "needs_background": "light",
      "tags": []
     },
     "output_type": "display_data"
    }
   ],
   "source": [
    "plt.plot(itter_list,cost_list)\n"
   ]
  },
  {
   "cell_type": "markdown",
   "metadata": {
    "id": "5V5jl9AktgPd"
   },
   "source": [
    "### Plot loss vs. iterations"
   ]
  },
  {
   "cell_type": "code",
   "execution_count": null,
   "metadata": {
    "id": "V96l_AjqtgPd"
   },
   "outputs": [],
   "source": []
  },
  {
   "cell_type": "markdown",
   "metadata": {
    "id": "UmscNUVytgPe"
   },
   "source": [
    "## Multivariate LR"
   ]
  },
  {
   "cell_type": "markdown",
   "metadata": {
    "id": "1Y_AwSPWtgPe"
   },
   "source": [
    "#### Read MultipleLR csv file into numpy array  (check your data)\n",
    "##### Data source\n",
    "https://college.cengage.com/mathematics/brase/understandable_statistics/7e/students/datasets/slr/frames/frame.html\n"
   ]
  },
  {
   "cell_type": "code",
   "execution_count": null,
   "metadata": {
    "id": "v4PDK2QgtgPe"
   },
   "outputs": [],
   "source": [
    "multi_data = np.genfromtxt(\"/content/drive/MyDrive/MultipleLR.csv\" , delimiter=\",\")"
   ]
  },
  {
   "cell_type": "code",
   "execution_count": null,
   "metadata": {
    "colab": {
     "base_uri": "https://localhost:8080/"
    },
    "id": "u3ZQHTOVtgPe",
    "outputId": "a4e0923b-cc91-4399-8511-db032a0ba774"
   },
   "outputs": [
    {
     "data": {
      "text/plain": [
       "array([[ 73.,  80.,  75., 152.],\n",
       "       [ 93.,  88.,  93., 185.],\n",
       "       [ 89.,  91.,  90., 180.],\n",
       "       [ 96.,  98., 100., 196.],\n",
       "       [ 73.,  66.,  70., 142.],\n",
       "       [ 53.,  46.,  55., 101.],\n",
       "       [ 69.,  74.,  77., 149.],\n",
       "       [ 47.,  56.,  60., 115.],\n",
       "       [ 87.,  79.,  90., 175.],\n",
       "       [ 79.,  70.,  88., 164.],\n",
       "       [ 69.,  70.,  73., 141.],\n",
       "       [ 70.,  65.,  74., 141.],\n",
       "       [ 93.,  95.,  91., 184.],\n",
       "       [ 79.,  80.,  73., 152.],\n",
       "       [ 70.,  73.,  78., 148.],\n",
       "       [ 93.,  89.,  96., 192.],\n",
       "       [ 78.,  75.,  68., 147.],\n",
       "       [ 81.,  90.,  93., 183.],\n",
       "       [ 88.,  92.,  86., 177.],\n",
       "       [ 78.,  83.,  77., 159.],\n",
       "       [ 82.,  86.,  90., 177.],\n",
       "       [ 86.,  82.,  89., 175.],\n",
       "       [ 78.,  83.,  85., 175.],\n",
       "       [ 76.,  83.,  71., 149.],\n",
       "       [ 96.,  93.,  95., 192.]])"
      ]
     },
     "execution_count": 23,
     "metadata": {
      "tags": []
     },
     "output_type": "execute_result"
    }
   ],
   "source": [
    "np.shape(multi_data)\n",
    "multi_data"
   ]
  },
  {
   "cell_type": "code",
   "execution_count": null,
   "metadata": {
    "colab": {
     "base_uri": "https://localhost:8080/"
    },
    "id": "2Gp0lKVYtgPe",
    "outputId": "e458a76f-b536-47e0-9917-0b590293159b"
   },
   "outputs": [
    {
     "name": "stdout",
     "output_type": "stream",
     "text": [
      "(25, 3)\n",
      "(25,)\n",
      "[[ 73.  80.  75.]\n",
      " [ 93.  88.  93.]\n",
      " [ 89.  91.  90.]\n",
      " [ 96.  98. 100.]\n",
      " [ 73.  66.  70.]\n",
      " [ 53.  46.  55.]\n",
      " [ 69.  74.  77.]\n",
      " [ 47.  56.  60.]\n",
      " [ 87.  79.  90.]\n",
      " [ 79.  70.  88.]\n",
      " [ 69.  70.  73.]\n",
      " [ 70.  65.  74.]\n",
      " [ 93.  95.  91.]\n",
      " [ 79.  80.  73.]\n",
      " [ 70.  73.  78.]\n",
      " [ 93.  89.  96.]\n",
      " [ 78.  75.  68.]\n",
      " [ 81.  90.  93.]\n",
      " [ 88.  92.  86.]\n",
      " [ 78.  83.  77.]\n",
      " [ 82.  86.  90.]\n",
      " [ 86.  82.  89.]\n",
      " [ 78.  83.  85.]\n",
      " [ 76.  83.  71.]\n",
      " [ 96.  93.  95.]]\n",
      "[152. 185. 180. 196. 142. 101. 149. 115. 175. 164. 141. 141. 184. 152.\n",
      " 148. 192. 147. 183. 177. 159. 177. 175. 175. 149. 192.]\n"
     ]
    }
   ],
   "source": [
    "X = multi_data[: , : -1]\n",
    "Y = multi_data[: , -1 ]\n",
    "print(np.shape(X))\n",
    "print(np.shape(Y))\n",
    "print(X)\n",
    "print(Y)\n"
   ]
  },
  {
   "cell_type": "code",
   "execution_count": null,
   "metadata": {
    "colab": {
     "base_uri": "https://localhost:8080/"
    },
    "id": "bIX8jEzMtgPf",
    "outputId": "c13d04e9-22cd-4911-b7f0-d26cfd589541"
   },
   "outputs": [
    {
     "data": {
      "text/plain": [
       "array([0, 0, 0, 0])"
      ]
     },
     "execution_count": 43,
     "metadata": {
      "tags": []
     },
     "output_type": "execute_result"
    }
   ],
   "source": [
    "x0 = np.ones(len(X[:,0]))\n",
    "X = np.insert(X , 0 , x0 , axis = 1)\n"
   ]
  },
  {
   "cell_type": "code",
   "execution_count": null,
   "metadata": {
    "colab": {
     "base_uri": "https://localhost:8080/"
    },
    "id": "-FjHhhkRZKcy",
    "outputId": "9cf701fe-a4da-46e4-9728-1f0c7a40d319"
   },
   "outputs": [
    {
     "name": "stdout",
     "output_type": "stream",
     "text": [
      "(25, 4)\n",
      "(4,)\n"
     ]
    }
   ],
   "source": [
    "print(np.shape(X))\n",
    "print(np.shape(thetas))\n"
   ]
  },
  {
   "cell_type": "code",
   "execution_count": null,
   "metadata": {
    "id": "hw1fvRKLdI-Y"
   },
   "outputs": [],
   "source": [
    "#  h =  X @ thetas  #Dot product\n",
    "#  z= h - Y\n",
    "#  cost = (1/2*len(X) ) * (z@z) # to square and sum\n",
    "#  diff_thetas = (X.T @ z) / len(X)\n",
    "#  thetas = thetas - alpha * diff_thetas\n",
    "# Gradient = np.linalg.norm(thetas , ord = 2)\n",
    "  # if Gradient < .01:\n",
    "  #   break"
   ]
  },
  {
   "cell_type": "code",
   "execution_count": 63,
   "metadata": {
    "colab": {
     "base_uri": "https://localhost:8080/"
    },
    "id": "IrKRHI5vtgPf",
    "outputId": "56916973-dfff-4477-fbe0-642891ce8bfd"
   },
   "outputs": [
    {
     "name": "stdout",
     "output_type": "stream",
     "text": [
      "[0.00789687 0.61841652 0.6192408  0.7523814 ]\n"
     ]
    }
   ],
   "source": [
    "cost_list=[]\n",
    "alpha = 0.0001\n",
    "itter_list= []\n",
    "thetas = np.array([0,0,0,0])\n",
    "\n",
    "for i in range (100):  \n",
    "  #step 2 making hypothesis\n",
    "  h =  X @ thetas  #Dot \n",
    "  # print(thetas)\n",
    "  # print(\"/////////zzzzzzzzzzzzzzzz////////////\")\n",
    "\n",
    "  z= h - Y\n",
    "  # print(z)\n",
    "  # print(\"/_________ddddddddddddddddddd___________\")\n",
    "  #step 3 Calculating cost of that hypothesis (difference between the hypothesis and the true values)\n",
    "  cost = (1/2*len(X) ) * (z@z) # to square and sum\n",
    "  cost_list.append(cost)\n",
    "  #step 4 calculating partial derivatives for theta0 and theta1\n",
    "  diff_thetas = (X.T @ z) / 25\n",
    "  # print(diff_thetas)\n",
    "  # print(\"/++++++ttttttttttttttttttt+++++++/\")\n",
    "  #step 5 Updating\n",
    "  thetas = thetas - alpha * diff_thetas\n",
    "print(thetas)\n"
   ]
  },
  {
   "cell_type": "markdown",
   "metadata": {
    "id": "4ItkyXxwtgPf"
   },
   "source": [
    "### Repeat your implementation but for more than one variable"
   ]
  },
  {
   "cell_type": "code",
   "execution_count": null,
   "metadata": {
    "id": "wpjhSl2ytgPf"
   },
   "outputs": [],
   "source": []
  },
  {
   "cell_type": "markdown",
   "metadata": {
    "id": "WHxLiA7dtgPf"
   },
   "source": [
    "#### Predict y values using the LR equation\n",
    "##### h(x)= theta_0 + theta_1 * x1 + theta_2 * x2 + theta_3 * x3"
   ]
  },
  {
   "cell_type": "code",
   "execution_count": 70,
   "metadata": {
    "colab": {
     "base_uri": "https://localhost:8080/"
    },
    "id": "cQNzGQDltgPf",
    "outputId": "0bd27ec0-8d0b-4997-8f55-cfbc75e1a3ff"
   },
   "outputs": [
    {
     "name": "stdout",
     "output_type": "stream",
     "text": [
      "[151.12017181 181.98529377 179.11220591 195.29962115 138.68889358\n",
      " 102.65002619 146.43582373 108.89384211 170.44448325 158.41922109\n",
      " 140.94933492 139.22392883 184.81521659 153.32590811 147.18738084\n",
      " 184.86167878 145.84938059 175.80277717 176.1035046  157.5747396\n",
      " 171.68708628 170.93140774 163.5937908  151.82361817 188.44151014]\n",
      "[152. 185. 180. 196. 142. 101. 149. 115. 175. 164. 141. 141. 184. 152.\n",
      " 148. 192. 147. 183. 177. 159. 177. 175. 175. 149. 192.]\n",
      "120.74986886945177\n"
     ]
    }
   ],
   "source": [
    "h =  X @ thetas\n",
    "print(h)\n",
    "print(Y)\n",
    "# at  x1 = 3 , x2 = 7 , x3 = 10\n",
    "Yp = thetas[0] * 1 + thetas[1]* 50 + thetas[2] * 60 + thetas[3]*70\n",
    "print(Yp)"
   ]
  },
  {
   "cell_type": "markdown",
   "metadata": {
    "id": "2Y3m3uI1tgPg"
   },
   "source": [
    "### Plot loss vs. iterations"
   ]
  },
  {
   "cell_type": "code",
   "execution_count": 64,
   "metadata": {
    "colab": {
     "base_uri": "https://localhost:8080/",
     "height": 293
    },
    "id": "3T1lWC15tgPg",
    "outputId": "a5bd5779-6496-413b-ade7-62a5976c5987"
   },
   "outputs": [
    {
     "data": {
      "text/plain": [
       "[<matplotlib.lines.Line2D at 0x7f88b5af5790>]"
      ]
     },
     "execution_count": 64,
     "metadata": {
      "tags": []
     },
     "output_type": "execute_result"
    },
    {
     "data": {
      "image/png": "[encoded data removed]",
      "text/plain": [
       "<Figure size 432x288 with 1 Axes>"
      ]
     },
     "metadata": {
      "needs_background": "light",
      "tags": []
     },
     "output_type": "display_data"
    }
   ],
   "source": [
    "plt.plot(cost_list)"
   ]
  },
  {
   "cell_type": "markdown",
   "metadata": {
    "id": "HqpVxQSotgPg"
   },
   "source": [
    "#### Use R2 score to evaluate LR equation output"
   ]
  },
  {
   "cell_type": "code",
   "execution_count": 65,
   "metadata": {
    "colab": {
     "base_uri": "https://localhost:8080/"
    },
    "id": "7lCihZIGtgPg",
    "outputId": "6e677c5b-0c43-44cf-fbba-86f4b72543c3"
   },
   "outputs": [
    {
     "data": {
      "text/plain": [
       "0.9679211293123436"
      ]
     },
     "execution_count": 65,
     "metadata": {
      "tags": []
     },
     "output_type": "execute_result"
    }
   ],
   "source": [
    "from sklearn.metrics import r2_score\n",
    "r2_score(Y,h)"
   ]
  }
 ],
 "metadata": {
  "colab": {
   "collapsed_sections": [
    "Uz_SEn0ltgPa",
    "AAYSQEwZtgPb",
    "tsHvLdXOtgPh",
    "7hdJ74DftgPh",
    "Jh2W-POZtgPi",
    "ZL9_jPSdtgPi",
    "k3IGEPWZtgPj"
   ],
   "name": "Practical Session 1 GD Implementation for LR .ipynb",
   "provenance": []
  },
  "kernelspec": {
   "display_name": "Python 3",
   "language": "python",
   "name": "python3"
  },
  "language_info": {
   "codemirror_mode": {
    "name": "ipython",
    "version": 3
   },
   "file_extension": ".py",
   "mimetype": "text/x-python",
   "name": "python",
   "nbconvert_exporter": "python",
   "pygments_lexer": "ipython3",
   "version": "3.8.5"
  }
 },
 "nbformat": 4,
 "nbformat_minor": 4
}
